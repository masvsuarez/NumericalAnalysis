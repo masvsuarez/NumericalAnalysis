{
 "cells": [
  {
   "cell_type": "markdown",
   "metadata": {},
   "source": [
    "# Ab-initio basic molecular dynamics simulations"
   ]
  },
  {
   "cell_type": "markdown",
   "metadata": {},
   "source": [
    "Project Objective inspired by Imperial College UG and targeted HKUST Phd Program"
   ]
  },
  {
   "cell_type": "markdown",
   "metadata": {},
   "source": [
    "## The model\n",
    "\n",
    "I am aiming to create a numerical simulation program to discribe the motion of an ensemble of classical particles in a 2 dimentional space. Unlike the ideal gas model, we will consider that the particles possess volume (area in 2d) and therefore collide with each other. Appart from these collisions I consider no other interaction between particles.\n",
    "\n",
    "Such simulation is one of the simplest examples of a class of simulation methods called [molecular dynamics](https://en.wikipedia.org/wiki/Molecular_dynamics), describing the time evolution of an ensemble of particles according to classical dynamics. In spite of its simplicity, such hard disks model is able to give insight on important results from thermodynamics, reaction kinetics, the structure of dense fluids, or phase transition."
   ]
  },
  {
   "cell_type": "code",
   "execution_count": null,
   "metadata": {
    "scrolled": true
   },
   "outputs": [],
   "source": [
    "# preliminary imports\n",
    "import numpy as np\n",
    "from scripts.support_funcs import animate_trajectory, display_particle, display_vecs, display_trajectory, Vector\n",
    "from scripts.base_functions import Particle, Simulation"
   ]
  },
  {
   "cell_type": "markdown",
   "metadata": {},
   "source": [
    "## Building a Particle Class"
   ]
  },
  {
   "cell_type": "code",
   "execution_count": null,
   "metadata": {},
   "outputs": [],
   "source": [
    "#sample particle in 2D (position, momentum, radius, mass)\n",
    "par = Particle(Vector(0,1), Vector(100,100), 0.5, 2)"
   ]
  },
  {
   "cell_type": "markdown",
   "metadata": {},
   "source": [
    "## Making the particle move"
   ]
  },
  {
   "cell_type": "markdown",
   "metadata": {},
   "source": [
    "In a small amount of time $\\Delta t$ the position will change via:\n",
    "\n",
    "$$\\vec{r}(t+\\Delta t)=\\vec{r}(t)+\\vec{v}(t)\\times \\Delta t$$\n",
    "\n",
    "where $\\vec{r}(t)$ is the position at time $t$, $\\vec{v}(t)$ is velocity and $\\Delta t$ is the time step.\n",
    "\n",
    "The trajectory of the particle, undersood in this context as a sequence of particle positions recorded in consecutive time steps, is obtained by running our simulation for a certain number of time steps, during each step we will use the velocity to update the position and then record the particle using the list."
   ]
  },
  {
   "cell_type": "code",
   "execution_count": 15,
   "metadata": {},
   "outputs": [],
   "source": [
    "no_steps = 1000\n",
    "dt = 0.01\n",
    "\n",
    "trajectory = []\n",
    "for onestep in range(no_steps):\n",
    "    lolz = par.copy()\n",
    "    lolz.position = lolz.position + lolz.velocity()*dt*onestep\n",
    "    trajectory.append(lolz)"
   ]
  },
  {
   "cell_type": "markdown",
   "metadata": {},
   "source": [
    "## Building a Simulation class"
   ]
  },
  {
   "cell_type": "code",
   "execution_count": 17,
   "metadata": {},
   "outputs": [
    {
     "name": "stdout",
     "output_type": "stream",
     "text": [
      "0.0\n",
      "1.0\n",
      "2.0\n"
     ]
    }
   ],
   "source": [
    "particles = [Particle(Vector(0.5,0),Vector(0,1),1,1),\n",
    "             Particle(Vector(0.5,1),Vector(0,-1),1,1),\n",
    "             Particle(Vector(0,0), Vector(0.5,0.5),1,1)]\n",
    "\n",
    "s=Simulation(particles, 100,1)\n",
    "\n",
    "#testing\n",
    "print(s.particles[0].position.y)\n",
    "s.step()\n",
    "print(s.particles[0].position.y)\n",
    "s.step()\n",
    "print(s.particles[0].position.y)"
   ]
  },
  {
   "cell_type": "markdown",
   "metadata": {},
   "source": [
    "## Recording the state of the simulation"
   ]
  },
  {
   "cell_type": "code",
   "execution_count": 19,
   "metadata": {},
   "outputs": [],
   "source": [
    "particles = [Particle(Vector(10,0),Vector(0,0.75),1,1),\n",
    "             Particle(Vector(50,10),Vector(0,0.5),1,1),\n",
    "             Particle(Vector(0,0), Vector(0.5,0.75),1,1)]\n",
    "\n",
    "no_steps = 300\n",
    "\n",
    "s=Simulation(particles, 100, 0.5)\n",
    "for i in range(no_steps):\n",
    "    s.step()\n",
    "\n",
    "# Simulation outputs record_states - a list of Vector positions\n",
    "animate_trajectory(s)"
   ]
  },
  {
   "cell_type": "markdown",
   "metadata": {},
   "source": [
    "## Generating initial conditions"
   ]
  },
  {
   "cell_type": "markdown",
   "metadata": {},
   "source": [
    "The outcome of each simulation will depend strongly on the initial state of the system, so that each Simulation object is created with initial conditions specified by a list of particle objects."
   ]
  },
  {
   "cell_type": "code",
   "execution_count": 22,
   "metadata": {},
   "outputs": [],
   "source": [
    "from numpy.random import random\n",
    "\n",
    "box_length=100\n",
    "N=100\n",
    "radius=1\n",
    "p_max=2\n",
    "init_random=[]\n",
    "for p in range(1,N+1):\n",
    "    pos_x=random()*(box_length-2*radius)+radius   #avoid initial position too close to the walls\n",
    "    pos_y=random()*(box_length-2*radius)+radius\n",
    "    pos=Vector(pos_x,pos_y)\n",
    "    mom_x=(random()-0.5)*2*p_max                  #allow for positive and negative momenta\n",
    "    mom_y=(random()-0.5)*2*p_max\n",
    "    mom=Vector(mom_x,mom_y)\n",
    "    init_random.append(Particle(pos,mom,radius,1))\n",
    "\n",
    "simu = Simulation(init_random, box_length, 0.5)\n",
    "no_steps = 300\n",
    "for i in range(no_steps):\n",
    "    simu.step()\n",
    "animate_trajectory(simu)"
   ]
  },
  {
   "cell_type": "markdown",
   "metadata": {},
   "source": [
    "# Collisions"
   ]
  },
  {
   "cell_type": "markdown",
   "metadata": {},
   "source": [
    "## Boundary Collision"
   ]
  },
  {
   "cell_type": "code",
   "execution_count": 24,
   "metadata": {},
   "outputs": [],
   "source": [
    "# after adding apply_box_collisions to consider boundary (box) - particle collisions\n",
    "def test_box():\n",
    "    box_length = 100\n",
    "    no_steps = 300\n",
    "    \n",
    "    p1 = Particle(position=Vector(10,50), momentum=Vector(-1,0),radius=1,mass=1)\n",
    "    p2 = Particle(position=Vector(50,90), momentum=Vector(0,1) ,radius=1,mass=1)\n",
    "    p3 = Particle(position=Vector(50,10), momentum=Vector(0,-1),radius=1,mass=1)\n",
    "    p4 = Particle(position=Vector(90,50), momentum=Vector(1,0) ,radius=1,mass=1)\n",
    "\n",
    "    box_particles = [p1,p2,p3,p4]\n",
    "\n",
    "    s = Simulation(box_particles, box_length=100, dt=0.1)\n",
    "    for i in range(300):\n",
    "        s.step()\n",
    "    animate_trajectory(s,loop=True)\n",
    "\n",
    "test_box()"
   ]
  },
  {
   "cell_type": "markdown",
   "metadata": {},
   "source": [
    "## Particle Collisions"
   ]
  },
  {
   "cell_type": "code",
   "execution_count": 25,
   "metadata": {},
   "outputs": [],
   "source": [
    "# include collisions in one-dimension\n",
    "def test_1d_collision():\n",
    "    box_length = 100\n",
    "    no_steps = 300\n",
    "\n",
    "    p1 = Particle(position = Vector(10,10), momentum=Vector(1,0),radius=1,mass=1)\n",
    "    p2 = Particle(position = Vector(20,10), momentum=Vector(0,0) ,radius=1,mass=1)\n",
    "    \n",
    "    test_case = [p1,p2]\n",
    "    s=Simulation(particles=test_case,box_length=100,dt=0.05)\n",
    "\n",
    "    for i in range(500):\n",
    "        s.step()\n",
    "    animate_trajectory(s,loop=True)\n",
    "\n",
    "test_1d_collision()"
   ]
  },
  {
   "cell_type": "code",
   "execution_count": 26,
   "metadata": {
    "collapsed": true
   },
   "outputs": [],
   "source": [
    "# include collisions in two-dimensions\n",
    "def test_2d_collision():\n",
    "    box_length = 100\n",
    "    no_steps = 300\n",
    "\n",
    "    p1 = Particle(position = Vector(10,10), momentum=Vector(1,0.5),radius=1,mass=1)\n",
    "    p2 = Particle(position = Vector(20,15), momentum=Vector(0,0) ,radius=1,mass=1)\n",
    "    \n",
    "    test_case = [p1,p2]\n",
    "    s=Simulation(particles=test_case,box_length=100,dt=0.05)\n",
    "\n",
    "    for i in range(500):\n",
    "        s.step()\n",
    "    animate_trajectory(s,loop=True)\n",
    "\n",
    "test_2d_collision()"
   ]
  },
  {
   "cell_type": "markdown",
   "metadata": {},
   "source": [
    "### Enhancing the Particle class"
   ]
  },
  {
   "cell_type": "code",
   "execution_count": 27,
   "metadata": {},
   "outputs": [
    {
     "data": {
      "text/plain": [
       "False"
      ]
     },
     "execution_count": 27,
     "metadata": {},
     "output_type": "execute_result"
    }
   ],
   "source": [
    "# include whether particles are initiated or collide as overlap \n",
    "p1 = Particle(position = Vector(10,10), momentum=Vector(1,0),radius=1,mass=1)\n",
    "p2 = Particle(position = Vector(12,10), momentum=Vector(0,0),radius=1,mass=1)\n",
    "p1.overlap(p2)"
   ]
  },
  {
   "cell_type": "markdown",
   "metadata": {},
   "source": [
    "# Saving the simulation"
   ]
  },
  {
   "cell_type": "code",
   "execution_count": 4,
   "metadata": {},
   "outputs": [],
   "source": [
    "p1 = Particle(position=Vector(20,20), momentum=Vector(2,0),radius=1,mass=1)\n",
    "p2 = Particle(position=Vector(25,20), momentum=Vector(4,0),radius=1,mass=1)\n",
    "p3 = Particle(position=Vector(40,20), momentum=Vector(5,0),radius=1,mass=1)\n",
    "p4 = Particle(position=Vector(60,20), momentum=Vector(-2,0),radius=1,mass=1)\n",
    "\n",
    "particles = [p1,p2,p3,p4]\n",
    "\n",
    "s = Simulation(particles, 100, 0.1)\n",
    "for step in range(200):\n",
    "    s.step()"
   ]
  },
  {
   "cell_type": "code",
   "execution_count": 5,
   "metadata": {},
   "outputs": [],
   "source": [
    "# pickle to save as binary file\n",
    "import pickle\n",
    "\n",
    "data_f = open('test_simulation.dat','wb')\n",
    "pickle.dump(s,data_f)\n",
    "data_f.close()"
   ]
  },
  {
   "cell_type": "code",
   "execution_count": 6,
   "metadata": {},
   "outputs": [],
   "source": [
    "# unpickle to load binary file\n",
    "data_f = open('test_simulation.dat','rb')\n",
    "loaded_s = pickle.load(data_f)\n",
    "data_f.close()"
   ]
  },
  {
   "cell_type": "markdown",
   "metadata": {},
   "source": [
    "## 1D collisions"
   ]
  },
  {
   "cell_type": "code",
   "execution_count": 28,
   "metadata": {},
   "outputs": [],
   "source": [
    "box_length = 100\n",
    "no_steps = 300\n",
    "p1 = Particle(position = Vector(10,10), momentum=Vector(3,0),radius=1,mass=1)\n",
    "p2 = Particle(position = Vector(14,10), momentum=Vector(1,0) ,radius=1,mass=1)\n",
    "    \n",
    "test_case = [p1,p2]\n",
    "s=Simulation(particles=test_case,box_length=100,dt=0.05)\n",
    "for i in range(300):\n",
    "        s.step()\n",
    "animate_trajectory(s,loop=True)\n"
   ]
  },
  {
   "cell_type": "markdown",
   "metadata": {},
   "source": [
    "## 2D collisions"
   ]
  },
  {
   "cell_type": "markdown",
   "metadata": {},
   "source": [
    "### Projecting the momentum along the normal and tangent axes"
   ]
  },
  {
   "cell_type": "markdown",
   "metadata": {},
   "source": [
    "To workout the component of a vector in the direction of a particular axis, we need to calculate the dot product of the vector with that particular axis multipled by the axis vector itself. Shown below is a figure (by user Acdx, from [wikimedia commons](https://upload.wikimedia.org/wikipedia/commons/f/fd/3D_Vector.svg)) for a 3 dimensional vector **a**, axis vectors **i**,**j**, and **k** and vector components $\\textbf a_x$, $\\textbf a_y$ and $\\textbf a_z$.\n",
    "\n",
    "<img src=\"https://upload.wikimedia.org/wikipedia/commons/f/fd/3D_Vector.svg\" />\n",
    "\n"
   ]
  },
  {
   "cell_type": "markdown",
   "metadata": {},
   "source": [
    "2d collisions omplemented as follows: \n",
    "\n",
    "* check if moving towards eachother\n",
    "* compute the normal axis\n",
    "* compute the projection of the momentum onto the normal and tangent axes\n",
    "* update the normal projected momentum in light of the collision\n",
    "* compute  the new total momentum"
   ]
  },
  {
   "cell_type": "code",
   "execution_count": 52,
   "metadata": {},
   "outputs": [],
   "source": [
    "test_2d_collision()"
   ]
  },
  {
   "cell_type": "code",
   "execution_count": 3,
   "metadata": {},
   "outputs": [],
   "source": [
    "from numpy.random import random\n",
    "\n",
    "box_length=100\n",
    "N=200\n",
    "radius=1\n",
    "p_max=2\n",
    "init_random=[]\n",
    "for p in range(1,N+1):\n",
    "    pos_x=random()*(box_length-2*radius)+radius   #avoid initial position too close to the walls\n",
    "    pos_y=random()*(box_length-2*radius)+radius\n",
    "    pos=Vector(pos_x,pos_y)\n",
    "    #mom_x=(random()-0.5)*2*p_max                  #allow for positive and negative momenta\n",
    "    #mom_y=(random()-0.5)*2*p_max\n",
    "    mom=Vector(0.5,0.5)\n",
    "    init_random.append(Particle(pos,mom,radius,1))\n",
    "    \n",
    "simu = Simulation(init_random, box_length, 0.25)\n",
    "no_steps = 10000\n",
    "for i in range(no_steps):\n",
    "    simu.step()\n",
    "animate_trajectory(simu)\n",
    "\n",
    "import pickle\n",
    "\n",
    "data_f = open('test_simulation.dat','wb')\n",
    "pickle.dump(simu,data_f)\n",
    "data_f.close()"
   ]
  },
  {
   "cell_type": "code",
   "execution_count": 20,
   "metadata": {},
   "outputs": [],
   "source": [
    "data_f = open('test_simulation.dat','rb')\n",
    "loaded_s = pickle.load(data_f)\n",
    "data_f.close()"
   ]
  },
  {
   "cell_type": "code",
   "execution_count": 21,
   "metadata": {
    "collapsed": true
   },
   "outputs": [],
   "source": [
    "animate_trajectory(loaded_s)"
   ]
  },
  {
   "cell_type": "markdown",
   "metadata": {},
   "source": [
    "## Allowing for particles with different masses"
   ]
  },
  {
   "cell_type": "markdown",
   "metadata": {},
   "source": [
    "The correct formula for a 1D collision in the case of different particle masses is:\n",
    "    \n",
    "$$\\vec{p'}_1 = \\frac{(m_1-m_2)\\vec{p}_1+2m_1\\vec{p}_2}{m_1+m_2}$$\n",
    "$$\\vec{p'}_2 = \\frac{(m_2-m_1)\\vec{p}_2+2m_2\\vec{p}_1}{m_1+m_2}$$"
   ]
  },
  {
   "cell_type": "code",
   "execution_count": 32,
   "metadata": {},
   "outputs": [],
   "source": [
    "def test_collision_bug():\n",
    "    box_length = 100\n",
    "    no_steps = 300\n",
    "\n",
    "    p1 = Particle(position = Vector(25,25), momentum=Vector(3,3),radius=1,mass=3)\n",
    "    p2 = Particle(position = Vector(35,30), momentum=Vector(-1,0) ,radius=1,mass=1)\n",
    "    p3 = Particle(position = Vector(40,60), momentum=Vector(3,0),radius=1,mass=3)\n",
    "    p4 = Particle(position = Vector(60,60), momentum=Vector(-1,0) ,radius=1,mass=1)\n",
    "    p5 = Particle(position = Vector(70,20), momentum=Vector(0,2),radius=1,mass=1)\n",
    "    p6 = Particle(position = Vector(80,30), momentum=Vector(-4,0) ,radius=1,mass=2)\n",
    "    \n",
    "    \n",
    "    test_case = [p1,p2, p3, p4,p5, p6]\n",
    "    \n",
    "    s=Simulation(particles=test_case,box_length=100,dt=0.25)\n",
    "\n",
    "    for i in range(500):\n",
    "        s.step()\n",
    "    animate_trajectory(s,loop=True, interval=85)\n",
    "\n",
    "test_collision_bug()"
   ]
  },
  {
   "cell_type": "markdown",
   "metadata": {},
   "source": [
    "## Looking at Physical Quantities"
   ]
  },
  {
   "cell_type": "markdown",
   "metadata": {},
   "source": [
    "### Energy as a function of time"
   ]
  },
  {
   "cell_type": "code",
   "execution_count": 22,
   "metadata": {},
   "outputs": [
    {
     "name": "stdout",
     "output_type": "stream",
     "text": [
      "Populating the interactive namespace from numpy and matplotlib\n"
     ]
    },
    {
     "name": "stderr",
     "output_type": "stream",
     "text": [
      "WARNING: pylab import has clobbered these variables: ['draw_if_interactive']\n",
      "`%matplotlib` prevents importing * from pylab and numpy\n"
     ]
    },
    {
     "data": {
      "image/png": "[encoded data removed]",
      "text/plain": [
       "<matplotlib.figure.Figure at 0x13c072e80>"
      ]
     },
     "metadata": {},
     "output_type": "display_data"
    }
   ],
   "source": [
    "\n",
    "total_KE=[]\n",
    "for i in range(len(loaded_s.trajectory)):\n",
    "    KE=0\n",
    "    for j in range(len(loaded_s.trajectory[i])):\n",
    "        velocity = loaded_s.trajectory[i][j].velocity().norm()\n",
    "        mass = loaded_s.trajectory[i][j].mass\n",
    "        KE += (0.5*mass*(velocity)**2)\n",
    "    total_KE.append(KE)\n",
    "x = list(np.linspace(1,len(loaded_s.trajectory), len(loaded_s.trajectory)))\n",
    "y = total_KE\n",
    "plt.plot(x,y)\n",
    "plt.ylim(49.5,50.5)\n",
    "plt.ylabel(\"Kinetic Energy\")\n",
    "plt.xlabel(\"Number of Particles\")\n",
    "plt.title(\"Energy of particles\")\n",
    "plt.show()"
   ]
  },
  {
   "cell_type": "markdown",
   "metadata": {},
   "source": [
    "### Distribution of speeds\n",
    "Every recorded state defines a distribution of particle speeds. Evolution of the standard deviation of the particle speeds as a function of time to find equilibrium."
   ]
  },
  {
   "cell_type": "code",
   "execution_count": 36,
   "metadata": {},
   "outputs": [
    {
     "data": {
      "image/png": "[encoded data removed]",
      "text/plain": [
       "<matplotlib.figure.Figure at 0x1068157f0>"
      ]
     },
     "metadata": {},
     "output_type": "display_data"
    }
   ],
   "source": [
    "std_list = []\n",
    "for i in range(len(loaded_s.trajectory)):\n",
    "    velocities = []\n",
    "    for j in range(len(loaded_s.trajectory[i])):\n",
    "        velocity= loaded_s.trajectory[i][j].velocity().norm()\n",
    "        velocities.append(velocity)\n",
    "    std_list.append(np.std(velocities))\n",
    "\n",
    "x = list(np.linspace(1,len(loaded_s.trajectory), len(loaded_s.trajectory)))\n",
    "y= std_list\n",
    "plt.plot(x,y)\n",
    "plt.ylabel(\"Standard Deviation\")\n",
    "plt.xlabel(\"Number of Particles\")\n",
    "plt.title(\"Standard deviation of particle speeds\")\n",
    "plt.show()"
   ]
  },
  {
   "cell_type": "markdown",
   "metadata": {},
   "source": [
    "Plot the histogram of speeds present at a specific time step."
   ]
  },
  {
   "cell_type": "code",
   "execution_count": 27,
   "metadata": {},
   "outputs": [
    {
     "data": {
      "image/png": "[encoded data removed]",
      "text/plain": [
       "<matplotlib.figure.Figure at 0x126264630>"
      ]
     },
     "metadata": {},
     "output_type": "display_data"
    }
   ],
   "source": [
    "from ipywidgets import interact\n",
    "from matplotlib.pyplot import *\n",
    "\n",
    "@interact(t=(0,1000,1))\n",
    "\n",
    "def plot_speeds(t):\n",
    "    particle_pos = loaded_s.trajectory[t]\n",
    "    velocities = []\n",
    "    for item in particle_pos:\n",
    "        velocity = item.velocity().norm()\n",
    "        velocities.append(velocity)\n",
    "    plt.clf()\n",
    "    plt.hist(velocities, 30)\n",
    "    plt.title(\"number of particles at each speed\")\n",
    "    plt.ylabel(\"number of particles\")\n",
    "    plt.xlabel(\"speeds\")\n",
    "    plt.show()"
   ]
  },
  {
   "cell_type": "code",
   "execution_count": 3,
   "metadata": {},
   "outputs": [],
   "source": [
    "from numpy.random import random\n",
    "\n",
    "box_length=100\n",
    "N=1000\n",
    "radius=1\n",
    "p_max=2\n",
    "init_random=[]\n",
    "for p in range(1,N+1):\n",
    "    pos_x=random()*(box_length-2*radius)+radius   #avoid initial position too close to the walls\n",
    "    pos_y=random()*(box_length-2*radius)+radius\n",
    "    pos=Vector(pos_x,pos_y)\n",
    "    mom_x=(random()-0.5)*2*p_max                  #allow for positive and negative momenta\n",
    "    mom_y=(random()-0.5)*2*p_max\n",
    "    mom=Vector(mom_x,mom_y)\n",
    "    init_random.append(Particle(pos,mom,radius,1))\n",
    "    \n",
    "massivesim = Simulation(init_random, box_length, 0.25)\n",
    "no_steps = 500\n",
    "for i in range(no_steps):\n",
    "    massivesim.step()\n",
    "animate_trajectory(massivesim)\n",
    "\n",
    "\n",
    "data_a = open('MassiveParticleFest.dat','wb')\n",
    "pickle.dump(massivesim,data_a)\n",
    "data_a.close()"
   ]
  },
  {
   "cell_type": "code",
   "execution_count": 3,
   "metadata": {
    "collapsed": true
   },
   "outputs": [],
   "source": [
    "data_a = open('MassiveParticleFest.dat','rb')\n",
    "loaded_a = pickle.load(data_a)\n",
    "data_a.close()"
   ]
  },
  {
   "cell_type": "code",
   "execution_count": 4,
   "metadata": {},
   "outputs": [],
   "source": [
    "animate_trajectory(loaded_a)"
   ]
  },
  {
   "cell_type": "markdown",
   "metadata": {},
   "source": [
    "The analytical formula for the 2D Maxwell-Boltzmann distribution giving the probabilty of finding a particle with a particular speed $v$ is:\n",
    "    \n",
    "$$\\rho(v)=\\frac{m v}{k_B T} \\exp\\left(-\\frac{mv^2}{2k_BT}\\right)$$ \n",
    "\n",
    "Where $m$ is the mass, $k_B$ is Boltzmann's constant and $T$ is the temperature.\n",
    "\n",
    "The relationship between the temperature and the average energy for a 2d ideal gas is:\n",
    "\n",
    "$$\\langle E \\rangle= k_BT$$"
   ]
  },
  {
   "cell_type": "code",
   "execution_count": 28,
   "metadata": {},
   "outputs": [
    {
     "name": "stdout",
     "output_type": "stream",
     "text": [
      "Populating the interactive namespace from numpy and matplotlib\n"
     ]
    }
   ],
   "source": [
    "def boltzmann(time):\n",
    "    KE_list = []\n",
    "    KE_sum = 0\n",
    "    particle_pos = loaded_a.trajectory[time]\n",
    "    for item in particle_pos:\n",
    "        KE_sum += 0.5*item.momentum.norm()/item.mass\n",
    "    KE_aver = KE_sum/len(loaded_a.trajectory)\n",
    "    velocities = []\n",
    "    probability = []\n",
    "    for i in np.linspace(0,3,1000):\n",
    "        mass = loaded_a.trajectory[time][0].mass\n",
    "        probability.append((1/KE_aver)*i*mass*np.exp((-mass*i**2)/(2*KE_aver)))\n",
    "    x = list(np.linspace(0,3,1000))\n",
    "    plt.plot(x, probability)\n",
    "    plt.title(\"boltzmann distribution\")\n",
    "    plt.ylabel(\"probability of finding a particle\")\n",
    "    plt.xlabel(\"speed\")\n",
    "    plt.show()"
   ]
  },
  {
   "cell_type": "code",
   "execution_count": 29,
   "metadata": {},
   "outputs": [
    {
     "data": {
      "image/png": "[encoded data removed]",
      "text/plain": [
       "<matplotlib.figure.Figure at 0x13c078710>"
      ]
     },
     "metadata": {},
     "output_type": "display_data"
    }
   ],
   "source": [
    "boltzmann(499)\n",
    "#the simulation was only run for 500 steps!!"
   ]
  },
  {
   "cell_type": "markdown",
   "metadata": {},
   "source": [
    "### Expansion of the gas"
   ]
  },
  {
   "cell_type": "code",
   "execution_count": 31,
   "metadata": {},
   "outputs": [
    {
     "name": "stdout",
     "output_type": "stream",
     "text": [
      "Using matplotlib backend: MacOSX\n",
      "Populating the interactive namespace from numpy and matplotlib\n"
     ]
    },
    {
     "name": "stderr",
     "output_type": "stream",
     "text": [
      "WARNING: pylab import has clobbered these variables: ['random']\n",
      "`%matplotlib` prevents importing * from pylab and numpy\n"
     ]
    }
   ],
   "source": [
    "# only initiate the particles on the left side and observe the expansion to the right\n",
    "box_length=100\n",
    "N=100\n",
    "radius=1\n",
    "p_max=2\n",
    "init_random=[]\n",
    "for p in range(1,N+1):\n",
    "    pos_x=random()*(box_length/2-2*radius)+radius   #avoid initial position too close to the walls\n",
    "    pos_y=random()*(box_length-2*radius)+radius\n",
    "    pos=Vector(pos_x,pos_y)\n",
    "    mom_x=(random()-0.5)*2*p_max                  #allow for positive and negative momenta\n",
    "    mom_y=(random()-0.5)*2*p_max\n",
    "    mom=Vector(mom_x,mom_y)\n",
    "    init_random.append(Particle(pos,mom,radius,1))\n",
    "    \n",
    "simu2 = Simulation(init_random, box_length, 0.25)\n",
    "no_steps = 1000\n",
    "for i in range(no_steps):\n",
    "    simu2.step()\n",
    "animate_trajectory(simu2)"
   ]
  },
  {
   "cell_type": "code",
   "execution_count": 33,
   "metadata": {},
   "outputs": [
    {
     "name": "stdout",
     "output_type": "stream",
     "text": [
      "Populating the interactive namespace from numpy and matplotlib\n"
     ]
    },
    {
     "data": {
      "image/png": "[encoded data removed]",
      "text/plain": [
       "<matplotlib.figure.Figure at 0x11ffe28d0>"
      ]
     },
     "metadata": {},
     "output_type": "display_data"
    }
   ],
   "source": [
    "# vice versa \n",
    "left_side=[]\n",
    "right_side=[]\n",
    "\n",
    "for i in range(1,(len(simu2.trajectory))):\n",
    "    left=[]\n",
    "    right=[]\n",
    "    for j in range(len(simu2.trajectory[i])):\n",
    "        position= simu2.trajectory[i][j].position\n",
    "        if position.x < (box_length/2):\n",
    "            left.append(position.x)\n",
    "        else:\n",
    "            right.append(position.x)\n",
    "    left_side.append(len(left))\n",
    "    right_side.append(len(right))\n",
    "\n",
    "a = list(np.linspace(1,len(simu2.trajectory), len(simu2.trajectory)-1))\n",
    "b = np.array(left_side)\n",
    "c = np.array(right_side)\n",
    "\n",
    "plt.plot(a,b)\n",
    "plt.plot(a,c)\n",
    "plt.title(\"number of particles on each side\")\n",
    "plt.ylabel(\"number of particles\")\n",
    "plt.xlabel(\"number of time steps\")\n",
    "plt.show()"
   ]
  }
 ],
 "metadata": {
  "kernelspec": {
   "display_name": "Python 3",
   "language": "python",
   "name": "python3"
  },
  "language_info": {
   "codemirror_mode": {
    "name": "ipython",
    "version": 3
   },
   "file_extension": ".py",
   "mimetype": "text/x-python",
   "name": "python",
   "nbconvert_exporter": "python",
   "pygments_lexer": "ipython3",
   "version": "3.6.8"
  }
 },
 "nbformat": 4,
 "nbformat_minor": 1
}
